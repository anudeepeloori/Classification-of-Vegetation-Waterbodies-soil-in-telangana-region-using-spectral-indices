{
 "cells": [
  {
   "cell_type": "code",
   "execution_count": 1,
   "id": "5ba5a2aa",
   "metadata": {},
   "outputs": [
    {
     "name": "stdout",
     "output_type": "stream",
     "text": [
      "1151 1151\n"
     ]
    }
   ],
   "source": [
    "import imageio\n",
    "import numpy as np\n",
    "from PIL import Image\n",
    "#Loading images using imageio.imread\n",
    "BLUE = imageio.imread(r\"C:\\MINI_PROJECT_DATA\\L3_SAT_10B_V1_78.25E17.5N_E44M06_30Dec15-M\\L3-NE44M06-100-060-30Dec15-BAND2.tif\")\n",
    "RED = imageio.imread(r\"C:\\MINI_PROJECT_DATA\\L3_SAT_10B_V1_78.25E17.5N_E44M06_30Dec15-M\\L3-NE44M06-100-060-30Dec15-BAND3.tif\")\n",
    "NIR = imageio.imread(r\"C:\\MINI_PROJECT_DATA\\L3_SAT_10B_V1_78.25E17.5N_E44M06_30Dec15-M\\L3-NE44M06-100-060-30Dec15-BAND4.tif\")\n",
    "SWIR = imageio.imread(r\"C:\\MINI_PROJECT_DATA\\L3_SAT_10B_V1_78.25E17.5N_E44M06_30Dec15-M\\L3-NE44M06-100-060-30Dec15-BAND5.tif\")\n",
    "listOfImages=[BLUE,RED,NIR,SWIR]\n",
    "#shape or number of pixels of image\n",
    "row,col=BLUE.shape\n",
    "\n",
    "print(row,col)"
   ]
  },
  {
   "cell_type": "code",
   "execution_count": 2,
   "id": "a15e71c0",
   "metadata": {},
   "outputs": [
    {
     "name": "stdout",
     "output_type": "stream",
     "text": [
      "1151 1151\n"
     ]
    }
   ],
   "source": [
    "import imageio\n",
    "import numpy as np\n",
    "from PIL import Image\n",
    "#Loading images using imageio.imread\n",
    "BLUE1 = imageio.imread(r\"C:\\MINI_PROJECT_DATA\\L3_SAT_10B_V1_78.25E17.5N_E44M06_05Jan17-M\\L3-NE44M06-100-060-05Jan17-BAND2.tif\")\n",
    "RED1 = imageio.imread(r\"C:\\MINI_PROJECT_DATA\\L3_SAT_10B_V1_78.25E17.5N_E44M06_05Jan17-M\\L3-NE44M06-100-060-05Jan17-BAND3.tif\")\n",
    "NIR1 = imageio.imread(r\"C:\\MINI_PROJECT_DATA\\L3_SAT_10B_V1_78.25E17.5N_E44M06_05Jan17-M\\L3-NE44M06-100-060-05Jan17-BAND4.tif\")\n",
    "SWIR1 = imageio.imread(r\"C:\\MINI_PROJECT_DATA\\L3_SAT_10B_V1_78.25E17.5N_E44M06_05Jan17-M\\L3-NE44M06-100-060-05Jan17-BAND5.tif\")\n",
    "listOfImages=[BLUE1,RED1,NIR1,SWIR1]\n",
    "#shape or number of pixels of image\n",
    "row,col=BLUE.shape\n",
    "\n",
    "print(row,col)"
   ]
  },
  {
   "cell_type": "code",
   "execution_count": 3,
   "id": "b5838e72",
   "metadata": {},
   "outputs": [
    {
     "name": "stdout",
     "output_type": "stream",
     "text": [
      "1151 1151\n"
     ]
    }
   ],
   "source": [
    "import imageio\n",
    "import numpy as np\n",
    "from PIL import Image\n",
    "#Loading images using imageio.imread\n",
    "BLUE2 = imageio.imread(r\"C:\\MINI_PROJECT_DATA\\L3_SAT_10B_V1_78.25E17.5N_E44M06_19Jan19-M\\L3-NE44M06-100-060-19Jan19-BAND2.tif\")\n",
    "RED2 = imageio.imread(r\"C:\\MINI_PROJECT_DATA\\L3_SAT_10B_V1_78.25E17.5N_E44M06_19Jan19-M\\L3-NE44M06-100-060-19Jan19-BAND3.tif\")\n",
    "NIR2 = imageio.imread(r\"C:\\MINI_PROJECT_DATA\\L3_SAT_10B_V1_78.25E17.5N_E44M06_19Jan19-M\\L3-NE44M06-100-060-19Jan19-BAND4.tif\")\n",
    "SWIR2 = imageio.imread(r\"C:\\MINI_PROJECT_DATA\\L3_SAT_10B_V1_78.25E17.5N_E44M06_19Jan19-M\\L3-NE44M06-100-060-19Jan19-BAND5.tif\")\n",
    "listOfImages=[BLUE2,RED2,NIR2,SWIR2]\n",
    "#shape or number of pixels of image\n",
    "row,col=BLUE.shape\n",
    "\n",
    "print(row,col)"
   ]
  },
  {
   "cell_type": "code",
   "execution_count": 4,
   "id": "b15d555b",
   "metadata": {},
   "outputs": [
    {
     "name": "stderr",
     "output_type": "stream",
     "text": [
      "C:\\Users\\anude\\AppData\\Local\\Temp\\ipykernel_2744\\4219806485.py:11: RuntimeWarning: overflow encountered in ushort_scalars\n",
      "  NDSI=(BLUE[i,j]-SWIR[i,j])/(BLUE[i,j]+SWIR[i,j])\n",
      "C:\\Users\\anude\\AppData\\Local\\Temp\\ipykernel_2744\\4219806485.py:12: RuntimeWarning: overflow encountered in ushort_scalars\n",
      "  NDWI=(NIR[i,j]-SWIR[i,j])/(NIR[i,j]+SWIR[i,j])\n",
      "C:\\Users\\anude\\AppData\\Local\\Temp\\ipykernel_2744\\4219806485.py:10: RuntimeWarning: overflow encountered in ushort_scalars\n",
      "  NDBI=(SWIR[i,j]-NIR[i,j])/(SWIR[i,j]+NIR[i,j])\n",
      "C:\\Users\\anude\\AppData\\Local\\Temp\\ipykernel_2744\\4219806485.py:9: RuntimeWarning: overflow encountered in ushort_scalars\n",
      "  NDVI=(NIR[i,j]-RED[i,j])/(NIR[i,j]+RED[i,j])\n"
     ]
    }
   ],
   "source": [
    "label_image=np.zeros((row, col,3))\n",
    "cntv=0;\n",
    "cntdv=0;\n",
    "cntbi=0;\n",
    "cntsi=0;\n",
    "cntwi=0;\n",
    "for i in range(0,row):\n",
    "    for j in range(0,col):\n",
    "        NDVI=(NIR[i,j]-RED[i,j])/(NIR[i,j]+RED[i,j])\n",
    "        NDBI=(SWIR[i,j]-NIR[i,j])/(SWIR[i,j]+NIR[i,j])\n",
    "        NDSI=(BLUE[i,j]-SWIR[i,j])/(BLUE[i,j]+SWIR[i,j])\n",
    "        NDWI=(NIR[i,j]-SWIR[i,j])/(NIR[i,j]+SWIR[i,j])\n",
    "        if(NDVI>0.2 and NDVI<=0.5):\n",
    "            label_image[i,j,:]=[102,255,102]      #light green - vegetation - shrubs , grassland and senescence crops\n",
    "            cntv=cntv+1;\n",
    "        elif NDVI>0.5 and NDVI<=0.9:\n",
    "            label_image[i,j,:]=[255,0,0]          #Red - dense vegetation\n",
    "            cntdv=cntdv+1;\n",
    "        elif NDBI>=0.5: \n",
    "            label_image[i,j,:]=[255,0,255]        #pink - Normalized Difference Build-up Index\n",
    "            cntbi=cntbi+1;\n",
    "        elif NDSI>0.4:  \n",
    "            label_image[i,j,:]=[255,255,204]      #Yellow - soil \n",
    "            cntsi=cntsi+1;\n",
    "        elif NDWI>=0.5:\n",
    "            label_image[i,j,:]=[102,102,255]      #Blue - waterbodies\n",
    "            cntwi=cntwi+1;\n",
    "im=Image.fromarray(label_image.astype(np.uint8))\n",
    "im.save(r\"C:\\MINI_PROJECT_DATA\\L3_SAT_10B_V1_78.25E17.5N_E44M06_30Dec15-M\\LabelledSatelliteImage1.tif\")    "
   ]
  },
  {
   "cell_type": "code",
   "execution_count": 5,
   "id": "87c5501f",
   "metadata": {},
   "outputs": [
    {
     "name": "stderr",
     "output_type": "stream",
     "text": [
      "C:\\Users\\anude\\AppData\\Local\\Temp\\ipykernel_2744\\877096283.py:11: RuntimeWarning: overflow encountered in ushort_scalars\n",
      "  NDSI1=(BLUE1[i,j]-SWIR1[i,j])/(BLUE1[i,j]+SWIR1[i,j])\n",
      "C:\\Users\\anude\\AppData\\Local\\Temp\\ipykernel_2744\\877096283.py:12: RuntimeWarning: overflow encountered in ushort_scalars\n",
      "  NDWI1=(NIR1[i,j]-SWIR1[i,j])/(NIR1[i,j]+SWIR1[i,j])\n",
      "C:\\Users\\anude\\AppData\\Local\\Temp\\ipykernel_2744\\877096283.py:10: RuntimeWarning: overflow encountered in ushort_scalars\n",
      "  NDBI1=(SWIR1[i,j]-NIR1[i,j])/(SWIR1[i,j]+NIR1[i,j])\n",
      "C:\\Users\\anude\\AppData\\Local\\Temp\\ipykernel_2744\\877096283.py:9: RuntimeWarning: overflow encountered in ushort_scalars\n",
      "  NDVI1=(NIR1[i,j]-RED1[i,j])/(NIR1[i,j]+RED1[i,j])\n"
     ]
    }
   ],
   "source": [
    "label_image=np.zeros((row, col,3))\n",
    "cntv1=0;\n",
    "cntdv1=0;\n",
    "cntbi1=0;\n",
    "cntsi1=0;\n",
    "cntwi1=0;\n",
    "for i in range(0,row):\n",
    "    for j in range(0,col):\n",
    "        NDVI1=(NIR1[i,j]-RED1[i,j])/(NIR1[i,j]+RED1[i,j])\n",
    "        NDBI1=(SWIR1[i,j]-NIR1[i,j])/(SWIR1[i,j]+NIR1[i,j])\n",
    "        NDSI1=(BLUE1[i,j]-SWIR1[i,j])/(BLUE1[i,j]+SWIR1[i,j])\n",
    "        NDWI1=(NIR1[i,j]-SWIR1[i,j])/(NIR1[i,j]+SWIR1[i,j])\n",
    "        if(NDVI1>0.2 and NDVI1<=0.5):\n",
    "            label_image[i,j,:]=[102,255,102]      #light green - vegetation- shrubs , grassland and senescence crops\n",
    "            cntv1=cntv1+1;\n",
    "        elif NDVI1>0.5 and NDVI1<=0.9:\n",
    "            label_image[i,j,:]=[255,0,0]          #Red - dense vegetation \n",
    "            cntdv1=cntdv1+1;\n",
    "        elif NDBI1>=0.5: \n",
    "            label_image[i,j,:]=[255,0,255]        #pink - Normalized Difference Build-up Index \n",
    "            cntbi1=cntbi1+1;\n",
    "        elif NDSI1>0.4:  \n",
    "            label_image[i,j,:]=[255,255,204]      #Yellow - soil \n",
    "            cntsi1=cntsi1+1;\n",
    "        elif NDWI1>=0.5:\n",
    "            label_image[i,j,:]=[102,102,255]      #Blue - waterbodies\n",
    "            cntwi1=cntwi1+1;\n",
    "im=Image.fromarray(label_image.astype(np.uint8))\n",
    "im.save(r\"C:\\MINI_PROJECT_DATA\\L3_SAT_10B_V1_78.25E17.5N_E44M06_05Jan17-M\\LabelledSatelliteImage2.tif\")    "
   ]
  },
  {
   "cell_type": "code",
   "execution_count": 6,
   "id": "8edfa6a2",
   "metadata": {},
   "outputs": [
    {
     "name": "stderr",
     "output_type": "stream",
     "text": [
      "C:\\Users\\anude\\AppData\\Local\\Temp\\ipykernel_2744\\3237502859.py:11: RuntimeWarning: overflow encountered in ushort_scalars\n",
      "  NDSI2=(BLUE2[i,j]-SWIR2[i,j])/(BLUE2[i,j]+SWIR2[i,j])\n",
      "C:\\Users\\anude\\AppData\\Local\\Temp\\ipykernel_2744\\3237502859.py:12: RuntimeWarning: overflow encountered in ushort_scalars\n",
      "  NDWI2=(NIR2[i,j]-SWIR2[i,j])/(NIR2[i,j]+SWIR2[i,j])\n",
      "C:\\Users\\anude\\AppData\\Local\\Temp\\ipykernel_2744\\3237502859.py:10: RuntimeWarning: overflow encountered in ushort_scalars\n",
      "  NDBI2=(SWIR2[i,j]-NIR2[i,j])/(SWIR2[i,j]+NIR2[i,j])\n",
      "C:\\Users\\anude\\AppData\\Local\\Temp\\ipykernel_2744\\3237502859.py:9: RuntimeWarning: overflow encountered in ushort_scalars\n",
      "  NDVI2=(NIR2[i,j]-RED2[i,j])/(NIR2[i,j]+RED2[i,j])\n"
     ]
    }
   ],
   "source": [
    "label_image=np.zeros((row, col,3))\n",
    "cntv2=0;\n",
    "cntdv2=0;\n",
    "cntbi2=0;\n",
    "cntsi2=0;\n",
    "cntwi2=0;\n",
    "for i in range(0,row):\n",
    "    for j in range(0,col):\n",
    "        NDVI2=(NIR2[i,j]-RED2[i,j])/(NIR2[i,j]+RED2[i,j])\n",
    "        NDBI2=(SWIR2[i,j]-NIR2[i,j])/(SWIR2[i,j]+NIR2[i,j])\n",
    "        NDSI2=(BLUE2[i,j]-SWIR2[i,j])/(BLUE2[i,j]+SWIR2[i,j])\n",
    "        NDWI2=(NIR2[i,j]-SWIR2[i,j])/(NIR2[i,j]+SWIR2[i,j])\n",
    "        if(NDVI2>0.2 and NDVI2<=0.5):\n",
    "            label_image[i,j,:]=[102,255,102]      #light green - vegetation\n",
    "            cntv2=cntv2+1;\n",
    "        elif NDVI2>0.5 and NDVI2<=0.9:\n",
    "            label_image[i,j,:]=[255,0,0]          #Red - tropical rainforests \n",
    "            cntdv2=cntdv2+1;\n",
    "        elif NDBI2>=0.5: \n",
    "            label_image[i,j,:]=[255,0,255]        #pink - Normalized Difference Build-up Index\n",
    "            cntbi2=cntbi2+1;\n",
    "        elif NDSI2>0.4:  \n",
    "            label_image[i,j,:]=[255,255,204]      #Yellow - soil \n",
    "            cntsi2=cntsi2+1;\n",
    "        elif NDWI2>=0.5:\n",
    "            label_image[i,j,:]=[102,102,255]      #Blue - waterbodies\n",
    "            cntwi2=cntwi2+1;\n",
    "im=Image.fromarray(label_image.astype(np.uint8))\n",
    "im.save(r\"C:\\MINI_PROJECT_DATA\\L3_SAT_10B_V1_78.25E17.5N_E44M06_19Jan19-M\\LabelledSatelliteImage3.tif\")    "
   ]
  },
  {
   "cell_type": "code",
   "execution_count": 7,
   "id": "ec1e56f5",
   "metadata": {},
   "outputs": [
    {
     "name": "stdout",
     "output_type": "stream",
     "text": [
      "vegetation 946058\n",
      "dense vegetation 10833\n",
      "built-up Areas 217498\n",
      "Soil 150277\n",
      "water bodies 114\n"
     ]
    }
   ],
   "source": [
    "print(\"vegetation\",cntv)\n",
    "print(\"dense vegetation\",cntdv)\n",
    "print(\"built-up Areas\",cntbi)\n",
    "print(\"Soil\",cntsi)\n",
    "print(\"water bodies\",cntwi)"
   ]
  },
  {
   "cell_type": "code",
   "execution_count": 8,
   "id": "d9925f94",
   "metadata": {},
   "outputs": [
    {
     "name": "stdout",
     "output_type": "stream",
     "text": [
      "vegetation 799795\n",
      "dense vegetation 30410\n",
      "built-up Areas 185191\n",
      "Soil 306146\n",
      "water bodies 2761\n"
     ]
    }
   ],
   "source": [
    "print(\"vegetation\",cntv1)\n",
    "print(\"dense vegetation\",cntdv1)\n",
    "print(\"built-up Areas\",cntbi1)\n",
    "print(\"Soil\",cntsi1)\n",
    "print(\"water bodies\",cntwi1)"
   ]
  },
  {
   "cell_type": "code",
   "execution_count": 9,
   "id": "d207149e",
   "metadata": {},
   "outputs": [
    {
     "name": "stdout",
     "output_type": "stream",
     "text": [
      "vegetation 226493\n",
      "dense vegetation 2160\n",
      "built-up Areas 183646\n",
      "Soil 908585\n",
      "water bodies 2999\n"
     ]
    }
   ],
   "source": [
    "print(\"vegetation\",cntv2)\n",
    "print(\"dense vegetation\",cntdv2)\n",
    "print(\"built-up Areas\",cntbi2)\n",
    "print(\"Soil\",cntsi2)\n",
    "print(\"water bodies\",cntwi2)"
   ]
  },
  {
   "cell_type": "code",
   "execution_count": 10,
   "id": "5ed792cb",
   "metadata": {},
   "outputs": [
    {
     "data": {
      "image/png": "[encoded data removed]",
      "text/plain": [
       "<Figure size 432x288 with 1 Axes>"
      ]
     },
     "metadata": {
      "needs_background": "light"
     },
     "output_type": "display_data"
    }
   ],
   "source": [
    "import matplotlib.pyplot as plt\n",
    "x=[1,2,3,4,5,6,7,8,9,10,11,12,13,14,15]\n",
    "y=[cntv,cntv1,cntv2,cntdv,cntdv1,cntdv2,cntbi,cntbi1,cntbi2,cntsi,cntsi1,cntsi2,cntwi,cntwi1,cntwi2]\n",
    "labels=['v15','v17','v19','dv15','dv17','dv19','bi15','bi17','bi19','si15','si17','si19','wi15','wi17','wi19']\n",
    "plt.bar(x,y,tick_label=labels,color=['red','blue','green'])\n",
    "plt.show()"
   ]
  }
 ],
 "metadata": {
  "kernelspec": {
   "display_name": "Python 3 (ipykernel)",
   "language": "python",
   "name": "python3"
  },
  "language_info": {
   "codemirror_mode": {
    "name": "ipython",
    "version": 3
   },
   "file_extension": ".py",
   "mimetype": "text/x-python",
   "name": "python",
   "nbconvert_exporter": "python",
   "pygments_lexer": "ipython3",
   "version": "3.9.12"
  }
 },
 "nbformat": 4,
 "nbformat_minor": 5
}
